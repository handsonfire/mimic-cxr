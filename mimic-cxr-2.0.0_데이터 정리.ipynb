{
 "cells": [
  {
   "cell_type": "code",
   "execution_count": 2,
   "id": "96fb1d91-8f7b-4617-8e16-a2e50002ff07",
   "metadata": {},
   "outputs": [],
   "source": [
    "import pandas as pd"
   ]
  },
  {
   "cell_type": "markdown",
   "id": "8bbfa64c-cfd2-4e4e-9b2e-e1588245fe89",
   "metadata": {},
   "source": [
    "## MIMIC-CXR CHEXPERT"
   ]
  },
  {
   "cell_type": "markdown",
   "id": "47c1df43-aa58-404f-89fc-d0bc6416530e",
   "metadata": {},
   "source": [
    "### METADATA & SPLIT"
   ]
  },
  {
   "cell_type": "code",
   "execution_count": 3,
   "id": "12c99c8e-1c51-4cda-b78d-1f48c2a30f5f",
   "metadata": {},
   "outputs": [],
   "source": [
    "df_meta = pd.read_csv('mimic-cxr-2.0.0-metadata.csv')\n",
    "df_split = pd.read_csv('mimic-cxr-2.0.0-split.csv')\n",
    "\n",
    "ms = pd.merge(df_meta, df_split, how = 'outer', on = 'dicom_id')        #metadata랑 split 정보를 합친다.\n",
    "\n",
    "#합친 ms df에서 split 기준 중 test, train, valid를 나눠서 df를 만들고, 해당 파일의 study_id를 기준으로 각각 chexpert, negbio의 값을 입력한다. "
   ]
  },
  {
   "cell_type": "markdown",
   "id": "0d0e326e-4a88-4a83-a912-3e98fb376053",
   "metadata": {
    "tags": []
   },
   "source": [
    "### test"
   ]
  },
  {
   "cell_type": "code",
   "execution_count": 216,
   "id": "23c65d26-ae96-42e5-9d19-450d4a22f18e",
   "metadata": {},
   "outputs": [],
   "source": [
    "#metadata에서 split 기준이 test인 것만 추출\n",
    "ms_test = ms[ms['split'] == 'test']\n",
    "ms_test.rename({'subject_id_x':'subject_id', 'study_id_x':'study_id'}, axis=1)\n",
    "ms_test = ms_test.drop(['PerformedProcedureStepDescription','Rows', 'Columns', 'StudyDate', 'StudyTime', 'study_id_y', 'subject_id_y', 'PatientOrientationCodeSequence_CodeMeaning'], axis=1)"
   ]
  },
  {
   "cell_type": "code",
   "execution_count": 38,
   "id": "e75cb475-cf20-4cf2-a026-4b983d652f7d",
   "metadata": {},
   "outputs": [],
   "source": [
    "df_chextest = pd.read_csv('mimic-cxr-2.0.0-chexpert.csv')\n",
    "test_df = pd.merge(ms_test, df_chextest, how='left', left_on='study_id_x', right_on='study_id')\n",
    "test_df.drop(['subject_id_x','study_id_x','split'], axis=1, inplace=True)\n",
    "test_df = test_df.reindex(['dicom_id','subject_id', 'study_id', 'No Finding', 'Enlarged Cardiomediastinum', 'Cardiomegaly', 'Lung Opacity', 'Lung Lesion', 'Edema', 'Consolidation', 'Pneumonia', 'Atelectasis', 'Pneumothorax', 'Pleural Effusion', \n",
    "                     'Pleural Other', 'Fracture', 'Support Devices', 'ViewCodeSequence_CodeMeaning', 'ViewPosition', 'ProcedureCodeSequence_CodeMeaning'], axis='columns')\n",
    "test_df = test_df.fillna({'No Finding':0, 'Enlarged Cardiomediastinum':0,'Cardiomegaly':0,'Lung Opacity':0,'Lung Lesion':0,'Edema':0,'Consolidation':0,'Pneumonia':0,'Atelectasis':0,'Pneumothorax':0,'Pleural Effusion':0,'Pleural Other':0,'Fracture':0,'Support Devices':0,})\n",
    "\n",
    "test_df = test_df.transpose()\n",
    "test_df = test_df.fillna(method='bfill', axis=0, limit=1)\n",
    "test_df = test_df.transpose()\n",
    "\n",
    "\n",
    "test_df.drop(['ViewCodeSequence_CodeMeaning','ProcedureCodeSequence_CodeMeaning'], axis=1, inplace=True)\n",
    "\n",
    "test_df.to_csv('test.csv', mode='w', index=False)"
   ]
  },
  {
   "cell_type": "markdown",
   "id": "cca9929e-a8d1-4f53-849c-2fa267d4e351",
   "metadata": {},
   "source": [
    "### train"
   ]
  },
  {
   "cell_type": "code",
   "execution_count": 305,
   "id": "d106f61c-81c7-423a-b6f8-36bbad7c67aa",
   "metadata": {},
   "outputs": [],
   "source": [
    "#train : Path\tSex\tAge\tFrontal/Lateral\tAP/PA\tNo Finding\tEnlarged Cardiomediastinum\tCardiomegaly\tLung Opacity\tLung Lesion\tEdema\tConsolidation\tPneumonia\tAtelectasis\tPneumothorax\tPleural Effusion\tPleural Other\tFracture\tSupport Devices\n",
    "\n",
    "ms_train = ms[ms['split']=='train']\n",
    "ms_train = ms_train.rename({'subject_id_x':'subject_id', 'study_id_x':'study_id'}, axis=1)\n",
    "ms_train.drop(['PerformedProcedureStepDescription','Rows', 'Columns', 'StudyDate', 'StudyTime', 'study_id_y', 'subject_id_y', 'PatientOrientationCodeSequence_CodeMeaning'], axis=1, inplace = True)"
   ]
  },
  {
   "cell_type": "code",
   "execution_count": 306,
   "id": "e0437e6e-6bb4-4c32-ab88-0a3ac083df21",
   "metadata": {},
   "outputs": [],
   "source": [
    "df_chextrain = pd.read_csv('mimic-cxr-2.0.0-chexpert.csv')\n",
    "\n",
    "train_df = pd.merge(ms_train, df_chextrain, how='left', left_on='study_id', right_on='study_id')\n",
    "train_df.drop(['subject_id_y','split'], axis=1, inplace=True)\n",
    "train_df = train_df.rename({'subject_id_x':'subject_id', 'ViewPosition':'Frontal/Lateral', 'ViewCodeSequence_CodeMeaning':'AP/PA'}, axis=1)\n",
    "train_df = train_df.fillna({'No Finding':0, 'Enlarged Cardiomediastinum':0,'Cardiomegaly':0,'Lung Opacity':0,'Lung Lesion':0,'Edema':0,'Consolidation':0,'Pneumonia':0,'Atelectasis':0,'Pneumothorax':0,'Pleural Effusion':0,'Pleural Other':0,'Fracture':0,'Support Devices':0,})\n",
    "\n",
    "train_df = train_df.transpose()\n",
    "train_df = train_df.fillna(method='bfill', axis=1, limit=1)\n",
    "train_df = train_df.transpose()\n",
    "\n",
    "train_df.drop(['ProcedureCodeSequence_CodeMeaning'], axis=1, inplace=True)\n",
    "\n",
    "train_df = train_df.reindex(['dicom_id', 'subject_id', 'study_id', 'Frontal/Lateral', 'AP/PA', 'No Finding', 'Enlarged Cardiomediastinum', 'Cardiomegaly', 'Lung Opacity', 'Lung Lesion', 'Edema', 'Consolidation', 'Pneumonia', \n",
    "                  'Atelectasis', 'Pneumothorax', 'Pleural Effusion', 'Pleural Other', 'Fracture', 'Support Devices'], axis='columns')\n",
    "\n",
    "train_df = train_df.replace(['PA', 'AP', 'LATERAL', 'postero-anterior', 'antero-posterior', 'lateral', 'left lateral'],['Frontal', 'Frontal', 'Lateral', 'PA', 'AP', '', 'LL'])\n",
    "train_df = train_df.replace({'Frontal/Lateral':'LL'}, 'Lateral')\n",
    "train_df.to_csv('train.csv', mode='w', index=False)"
   ]
  },
  {
   "cell_type": "markdown",
   "id": "772fa895-7b9c-4149-9bea-f5ef1d870142",
   "metadata": {
    "tags": []
   },
   "source": [
    "### valid"
   ]
  },
  {
   "cell_type": "code",
   "execution_count": 13,
   "id": "8ffb84e9-c7e6-4135-b990-7df70c0511da",
   "metadata": {},
   "outputs": [],
   "source": [
    "#valid : Path\tFrontal/Lateral\tAP/PA\tNo Finding\tEnlarged Cardiomediastinum\tCardiomegaly\tLung Opacity\tLung Lesion\tEdema\tConsolidation\tPneumonia\tAtelectasis\tPneumothorax\tPleural Effusion\tPleural Other\tFracture\tSupport Devices\n",
    "\n",
    "ms_valid = ms[ms['split']=='validate']\n",
    "ms_valid.rename({'subject_id_x':'subject_id', 'study_id_x':'study_id'}, axis=1)\n",
    "ms_valid = ms_valid.drop(['PerformedProcedureStepDescription','Rows', 'Columns', 'StudyDate', 'StudyTime', 'study_id_y', 'subject_id_y', 'PatientOrientationCodeSequence_CodeMeaning'], axis=1)"
   ]
  },
  {
   "cell_type": "code",
   "execution_count": 49,
   "id": "6fea3b8a-7322-4f86-bb23-60c5c2231126",
   "metadata": {},
   "outputs": [],
   "source": [
    "df_chexvalid = pd.read_csv('mimic-cxr-2.0.0-chexpert.csv')\n",
    "valid_df = pd.merge(ms_valid, df_chextest, how='left', left_on='study_id_x', right_on='study_id')\n",
    "valid_df.drop(['subject_id_x','study_id_x','split'], axis=1, inplace=True)\n",
    "valid_df = valid_df.reindex(['dicom_id', 'subject_id', 'study_id', 'ProcedureCodeSequence_CodeMeaning', 'ViewPosition', 'ViewCodeSequence_CodeMeaning', 'No Finding', 'Enlarged Cardiomediastinum', 'Cardiomegaly', 'Lung Opacity', 'Lung Lesion', 'Edema', 'Consolidation', 'Pneumonia', \n",
    "                             'Atelectasis', 'Pneumothorax', 'Pleural Effusion', 'Pleural Other', 'Fracture', 'Support Devices'], axis='columns')\n",
    "valid_df = valid_df.fillna({'No Finding':0, 'Enlarged Cardiomediastinum':0,'Cardiomegaly':0,'Lung Opacity':0,'Lung Lesion':0,'Edema':0,'Consolidation':0,'Pneumonia':0,'Atelectasis':0,'Pneumothorax':0,'Pleural Effusion':0,'Pleural Other':0,'Fracture':0,'Support Devices':0,})\n",
    "valid_df = valid_df.replace(['AP', 'PA', 'LATERAL', 'LL', 'antero-posterior', 'postero-anterior', 'left lateral', 'lateral'],['Frontal','Frontal', 'Lateral', 'Lateral', 'AP', 'PA', 'LL', ''])\n",
    "valid_df.rename({'ViewPosition':'Frontal/Lateral', 'ViewCodeSequence_CodeMeaning':'AP/PA'}, axis=1, inplace=True)\n",
    "valid_df.drop(['ProcedureCodeSequence_CodeMeaning'], axis=1, inplace=True)\n",
    "\n",
    "valid_df.to_csv('valid.csv', mode='w', index=False)"
   ]
  },
  {
   "cell_type": "markdown",
   "id": "c125d429-7963-492e-93e3-a51eb1f7a119",
   "metadata": {},
   "source": [
    "## MIMIC-CXR NEGBIO"
   ]
  },
  {
   "cell_type": "markdown",
   "id": "a4404c58-5cd6-4628-884a-7b877c4abbac",
   "metadata": {},
   "source": [
    "### test"
   ]
  },
  {
   "cell_type": "code",
   "execution_count": 265,
   "id": "7e4fad4e-8d30-4ae0-b7fa-d543ace3b539",
   "metadata": {},
   "outputs": [],
   "source": [
    "ms_test\n",
    "\n",
    "df_negtest = pd.read_csv('mimic-cxr-2.0.0-negbio.csv')\n",
    "neg_test = pd.merge(ms_test, df_negtest, how='left', left_on='study_id_x', right_on='study_id')\n",
    "neg_test.drop(['subject_id_x','study_id_x','split'], axis=1)\n",
    "neg_test = neg_test.reindex(['dicom_id','subject_id', 'study_id', 'No Finding', 'Enlarged Cardiomediastinum', 'Cardiomegaly', 'Lung Opacity', 'Lung Lesion', 'Edema', 'Consolidation', 'Pneumonia', 'Atelectasis', 'Pneumothorax', 'Pleural Effusion', \n",
    "                     'Pleural Other', 'Fracture', 'Support Devices', 'ViewPosition', 'ViewCodeSequence_CodeMeaning', 'ProcedureCodeSequence_CodeMeaning'], axis='columns')\n",
    "neg_test = neg_test.fillna({'No Finding':0, 'Enlarged Cardiomediastinum':0,'Cardiomegaly':0,'Lung Opacity':0,'Lung Lesion':0,'Edema':0,'Consolidation':0,'Pneumonia':0,'Atelectasis':0,'Pneumothorax':0,'Pleural Effusion':0,'Pleural Other':0,'Fracture':0,'Support Devices':0,})\n",
    "\n",
    "\n",
    "neg_test = neg_test.transpose()\n",
    "neg_test = neg_test.fillna(method='bfill', axis=0, limit=1)\n",
    "neg_test = neg_test.transpose()\n",
    "\n",
    "neg_test.drop(['ViewPosition', 'ProcedureCodeSequence_CodeMeaning'], axis='columns', inplace=True)\n",
    "neg_test.rename({'ViewCodeSequence_CodeMeaning':'Frontal/Lateral'}, axis=1, inplace=True)\n",
    "neg_test = neg_test.replace(['CHEST (PORTABLE AP)','postero-anterior','antero-posterior', 'lateral', 'left lateral','CHEST (PA AND LAT)'],['Frontal','Frontal', 'Frontal', 'Lateral', 'Lateral', ''])\n",
    "\n",
    "neg_test.to_csv('./mimic-cxr-2.0.0-negbio/test.csv', index=False, mode='w')\n"
   ]
  },
  {
   "cell_type": "markdown",
   "id": "a0170bc3-f920-4890-8fb6-55b0f5babb3a",
   "metadata": {},
   "source": [
    "### train"
   ]
  },
  {
   "cell_type": "code",
   "execution_count": 304,
   "id": "7f21149c-61a0-4075-8e86-6b63700a2681",
   "metadata": {},
   "outputs": [],
   "source": [
    "#train : Path\tSex\tAge\tFrontal/Lateral\tAP/PA\tNo Finding\tEnlarged Cardiomediastinum\tCardiomegaly\tLung Opacity\tLung Lesion\tEdema\tConsolidation\tPneumonia\tAtelectasis\tPneumothorax\tPleural Effusion\tPleural Other\tFracture\tSupport Devices\n",
    "ms_train\n",
    "\n",
    "df_negtrain = pd.read_csv('mimic-cxr-2.0.0-negbio.csv')\n",
    "\n",
    "neg_train = pd.merge(ms_train, df_negtrain, how='left', left_on='study_id', right_on='study_id')\n",
    "neg_train.drop(['subject_id_y','split'], axis=1, inplace=True)\n",
    "\n",
    "neg_train = neg_train.rename({'subject_id_x':'subject_id', 'ViewPosition':'Frontal/Lateral', 'ViewCodeSequence_CodeMeaning':'AP/PA'}, axis=1)\n",
    "neg_train = neg_train.fillna({'No Finding':0, 'Enlarged Cardiomediastinum':0,'Cardiomegaly':0,'Lung Opacity':0,'Lung Lesion':0,'Edema':0,'Consolidation':0,'Pneumonia':0,'Atelectasis':0,'Pneumothorax':0,'Pleural Effusion':0,'Pleural Other':0,'Fracture':0,'Support Devices':0,})\n",
    "\n",
    "neg_train = neg_train.transpose()\n",
    "neg_train = neg_train.fillna(method='bfill', axis=1, limit=1)\n",
    "neg_train = neg_train.transpose()\n",
    "\n",
    "neg_train.drop(['ProcedureCodeSequence_CodeMeaning'], axis=1, inplace=True)\n",
    "\n",
    "neg_train = neg_train.reindex(['dicom_id', 'subject_id', 'study_id', 'Frontal/Lateral', 'AP/PA', 'No Finding', 'Enlarged Cardiomediastinum', 'Cardiomegaly', 'Lung Opacity', 'Lung Lesion', 'Edema', 'Consolidation', 'Pneumonia', \n",
    "                  'Atelectasis', 'Pneumothorax', 'Pleural Effusion', 'Pleural Other', 'Fracture', 'Support Devices'], axis='columns')\n",
    "\n",
    "neg_train = neg_train.replace(['PA', 'AP', 'LATERAL', 'postero-anterior', 'antero-posterior', 'lateral', 'left lateral'],['Frontal', 'Frontal', 'Lateral', 'PA', 'AP', '', 'LL'])\n",
    "neg_train = neg_train.replace({'Frontal/Lateral':'LL'}, 'Lateral')\n",
    "neg_train.to_csv('train.csv', mode='w', index=False)"
   ]
  },
  {
   "cell_type": "markdown",
   "id": "1b272443-4d88-4e37-87aa-227388efb547",
   "metadata": {},
   "source": [
    "### valid"
   ]
  },
  {
   "cell_type": "code",
   "execution_count": 313,
   "id": "f72643fb-e869-4b1d-8bf4-7984064c75ac",
   "metadata": {},
   "outputs": [],
   "source": [
    "ms_valid\n",
    "\n",
    "df_negvalid = pd.read_csv('mimic-cxr-2.0.0-negbio.csv')\n",
    "\n",
    "neg_valid = pd.merge(ms_valid, df_negvalid, how='left', left_on='study_id_x', right_on='study_id')\n",
    "\n",
    "neg_valid.drop(['subject_id_x','study_id_x','split'], axis=1, inplace=True)\n",
    "neg_valid = neg_valid.reindex(['dicom_id', 'subject_id', 'study_id', 'ProcedureCodeSequence_CodeMeaning', 'ViewPosition', 'ViewCodeSequence_CodeMeaning', 'No Finding', 'Enlarged Cardiomediastinum', 'Cardiomegaly', 'Lung Opacity', 'Lung Lesion', 'Edema', 'Consolidation', 'Pneumonia', \n",
    "                             'Atelectasis', 'Pneumothorax', 'Pleural Effusion', 'Pleural Other', 'Fracture', 'Support Devices'], axis='columns')\n",
    "neg_valid = neg_valid.fillna({'No Finding':0, 'Enlarged Cardiomediastinum':0,'Cardiomegaly':0,'Lung Opacity':0,'Lung Lesion':0,'Edema':0,'Consolidation':0,'Pneumonia':0,'Atelectasis':0,'Pneumothorax':0,'Pleural Effusion':0,'Pleural Other':0,'Fracture':0,'Support Devices':0,})\n",
    "neg_valid = neg_valid.replace(['AP', 'PA', 'LATERAL', 'LL', 'antero-posterior', 'postero-anterior', 'left lateral', 'lateral'],['Frontal','Frontal', 'Lateral', 'Lateral', 'AP', 'PA', 'LL', ''])\n",
    "neg_valid.rename({'ViewPosition':'Frontal/Lateral', 'ViewCodeSequence_CodeMeaning':'AP/PA'}, axis=1, inplace=True)\n",
    "neg_valid.drop(['ProcedureCodeSequence_CodeMeaning'], axis=1, inplace=True)\n",
    "\n",
    "neg_valid.to_csv('valid.csv', mode='w', index=False)"
   ]
  },
  {
   "cell_type": "code",
   "execution_count": null,
   "id": "9670e493-2dde-4d8c-87aa-1e4a83bbd1fb",
   "metadata": {},
   "outputs": [],
   "source": []
  }
 ],
 "metadata": {
  "kernelspec": {
   "display_name": "Python 3 (ipykernel)",
   "language": "python",
   "name": "python3"
  },
  "language_info": {
   "codemirror_mode": {
    "name": "ipython",
    "version": 3
   },
   "file_extension": ".py",
   "mimetype": "text/x-python",
   "name": "python",
   "nbconvert_exporter": "python",
   "pygments_lexer": "ipython3",
   "version": "3.9.13"
  }
 },
 "nbformat": 4,
 "nbformat_minor": 5
}
